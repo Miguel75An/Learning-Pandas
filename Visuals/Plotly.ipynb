{
 "cells": [
  {
   "cell_type": "code",
   "execution_count": 6,
   "metadata": {},
   "outputs": [
    {
     "name": "stdout",
     "output_type": "stream",
     "text": [
      "High five! You successfully sent some data to your account on plotly. View your plot in your browser at https://plot.ly/~Miguel75An/0 or inside your plot.ly account where it is named 'new plot'\n"
     ]
    }
   ],
   "source": [
    "import plotly \n",
    "plotly.tools.set_credentials_file(username='Miguel75An', api_key='fjYlDzmQpxlAhhlqPZDU')\n",
    "\n",
    "import plotly.plotly as py\n",
    "from plotly.graph_objs import *\n",
    "\n",
    "#py = plotly.plotly(username='Miguel75An', key='fjYlDzmQpxlAhhlqPZDU')\n",
    "\n",
    "\n",
    "\n",
    "data = Data([\n",
    "    Scatter(\n",
    "        x=[1, 2],\n",
    "        y=[3, 4]\n",
    "    )\n",
    "])\n",
    "\n",
    "plot_url = py.plot(data, filename='new plot', fileopt='new')"
   ]
  },
  {
   "cell_type": "code",
   "execution_count": null,
   "metadata": {},
   "outputs": [],
   "source": []
  },
  {
   "cell_type": "code",
   "execution_count": null,
   "metadata": {
    "collapsed": true
   },
   "outputs": [],
   "source": []
  }
 ],
 "metadata": {
  "kernelspec": {
   "display_name": "Python 3",
   "language": "python",
   "name": "python3"
  },
  "language_info": {
   "codemirror_mode": {
    "name": "ipython",
    "version": 3
   },
   "file_extension": ".py",
   "mimetype": "text/x-python",
   "name": "python",
   "nbconvert_exporter": "python",
   "pygments_lexer": "ipython3",
   "version": "3.6.1"
  }
 },
 "nbformat": 4,
 "nbformat_minor": 2
}
